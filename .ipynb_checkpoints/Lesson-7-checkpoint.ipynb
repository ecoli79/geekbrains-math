{
 "cells": [
  {
   "cell_type": "code",
   "execution_count": 109,
   "metadata": {},
   "outputs": [],
   "source": [
    "#%matplotlib inline\n",
    "%matplotlib notebook\n",
    "import numpy as np\n",
    "import matplotlib.pyplot as plt\n",
    "import itertools\n",
    "from mpl_toolkits.mplot3d import Axes3D\n",
    "import scipy \n",
    "import scipy.linalg"
   ]
  },
  {
   "cell_type": "code",
   "execution_count": 97,
   "metadata": {},
   "outputs": [
    {
     "data": {
      "text/plain": [
       "array([-9.1       ,  1.2       ,  6.23333333])"
      ]
     },
     "execution_count": 97,
     "metadata": {},
     "output_type": "execute_result"
    }
   ],
   "source": [
    "#Lesson-7 example-1\n",
    "A = np.array([[1, 2, 3], [4, 0, 6], [7, 8, 9]])\n",
    "B = np.array([12, 1, 2])\n",
    "A1 = np.linalg.inv(A) \n",
    "np.dot(A1, B)"
   ]
  },
  {
   "cell_type": "code",
   "execution_count": 145,
   "metadata": {},
   "outputs": [
    {
     "data": {
      "text/plain": [
       "array([ 1.13919353, -0.90498444, -0.9009803 ])"
      ]
     },
     "execution_count": 145,
     "metadata": {},
     "output_type": "execute_result"
    }
   ],
   "source": [
    "#Lesson-7 example-2\n",
    "A = np.array([[1, 2, -1], [3, -4, 0], [8, -5, 2], [2, 0, -5], [11, 4, -7]])\n",
    "b = np.array([1, 7, 12, 7, 15])\n",
    "A1 = np.linalg.pinv(A)\n",
    "np.dot(A1, b)"
   ]
  },
  {
   "cell_type": "code",
   "execution_count": 100,
   "metadata": {},
   "outputs": [
    {
     "data": {
      "text/plain": [
       "array([ 1.26663740e+15, -2.53327479e+15,  1.26663740e+15])"
      ]
     },
     "execution_count": 100,
     "metadata": {},
     "output_type": "execute_result"
    }
   ],
   "source": [
    "#Lesson-7 example-3\n",
    "A = np.array([[1, 2, 3], [4, 5, 6], [7, 8, 9]])\n",
    "A1 = A * 5\n",
    "B = np.array([12, 2, 1])\n",
    "#C = np.column_stack((A,B))\n",
    "#print(C)\n",
    "np.linalg.solve(A1, B)"
   ]
  },
  {
   "cell_type": "code",
   "execution_count": 106,
   "metadata": {},
   "outputs": [
    {
     "name": "stdout",
     "output_type": "stream",
     "text": [
      "[[ 1  2  3  4]\n",
      " [ 2 16 21  7]\n",
      " [ 4 28 73 10]]\n",
      "[[0. 1. 0.]\n",
      " [0. 0. 1.]\n",
      " [1. 0. 0.]]\n",
      "[[ 1.    0.    0.  ]\n",
      " [ 0.25  1.    0.  ]\n",
      " [ 0.5  -0.4   1.  ]]\n",
      "[[  4.    28.    73.    10.  ]\n",
      " [  0.    -5.   -15.25   1.5 ]\n",
      " [  0.     0.   -21.6    2.6 ]]\n",
      "[ 4.22685185  0.06712963 -0.12037037]\n"
     ]
    }
   ],
   "source": [
    "#Lesson-7 example-4\n",
    "A = np.array([[1, 2, 3], [2, 16, 21], [4, 28, 73]])\n",
    "B = np.array([4, 7, 10])\n",
    "C = np.column_stack((A,B))\n",
    "#P, L, U = scipy.linalg.lu(A)\n",
    "P, L, U = scipy.linalg.lu(C)\n",
    "print(C)\n",
    "print(P)\n",
    "print(L)\n",
    "print(U)\n",
    "lu, piv = scipy.linalg.lu_factor(A)\n",
    "x = scipy.linalg.lu_solve((lu, piv), B)\n",
    "print(x)"
   ]
  },
  {
   "cell_type": "code",
   "execution_count": 136,
   "metadata": {},
   "outputs": [
    {
     "name": "stderr",
     "output_type": "stream",
     "text": [
      "<ipython-input-136-b24054ad5aa1>:14: FutureWarning: `rcond` parameter will change to the default of machine precision times ``max(M, N)`` where M and N are the input matrix dimensions.\n",
      "To use the future default and silence this warning we advise to pass `rcond=None`, to keep using the old, explicitly pass `rcond=-1`.\n",
      "  np.linalg.lstsq(A,B)\n"
     ]
    },
    {
     "data": {
      "text/plain": [
       "(array([ 1.38191882, -0.18081181,  0.0202952 ]),\n",
       " array([], dtype=float64),\n",
       " 2,\n",
       " array([9.65316119, 2.41173777]))"
      ]
     },
     "execution_count": 136,
     "metadata": {},
     "output_type": "execute_result"
    },
    {
     "data": {
      "image/png": "[encoded data removed]",
      "text/plain": [
       "<Figure size 432x288 with 1 Axes>"
      ]
     },
     "metadata": {
      "needs_background": "light"
     },
     "output_type": "display_data"
    }
   ],
   "source": [
    "#Lesson-7 example-5\n",
    "def Q(x, y, z):\n",
    "    return(x**2 + y**2 + z**2)\n",
    "x = np.linspace(-10, 10, 200)\n",
    "y = np.linspace(-10, 10, 200)\n",
    "z1 = x + 2*y -1\n",
    "z2 = 6 - 4*x + 2.5*y\n",
    "plt.plot(x, Q(x, y, z1))\n",
    "plt.plot(x, Q(x, y, z2))\n",
    "plt.ylim(-1, 120)\n",
    "plt.grid()\n",
    "A = np.array([[1, 2, -1], [8, -5, 2]])\n",
    "B = np.array([1, 12])\n",
    "np.linalg.lstsq(A,B)"
   ]
  },
  {
   "cell_type": "code",
   "execution_count": 144,
   "metadata": {},
   "outputs": [
    {
     "name": "stdout",
     "output_type": "stream",
     "text": [
      "[[1 2 3]\n",
      " [4 5 6]\n",
      " [7 8 9]]\n",
      "[[-0.12309149  0.90453403  0.40824829]\n",
      " [-0.49236596  0.30151134 -0.81649658]\n",
      " [-0.86164044 -0.30151134  0.40824829]]\n",
      "[[-8.12403840e+00 -9.60113630e+00 -1.10782342e+01]\n",
      " [ 0.00000000e+00  9.04534034e-01  1.80906807e+00]\n",
      " [ 0.00000000e+00  0.00000000e+00 -7.58790979e-16]]\n",
      "[[-8.1240384  -9.6011363 ]\n",
      " [ 0.          0.90453403]]\n",
      "[-1.21860576e+01  3.33066907e-15]\n",
      "[1.50000000e+00 3.68219321e-15]\n",
      "[1.50000000e+00 3.68219321e-15 0.00000000e+00]\n",
      "1.499999999999996\n",
      "1.2247448713915892\n"
     ]
    }
   ],
   "source": [
    "#Lesson-7 example-6\n",
    "A = np.array([[1, 2, 3], [4, 5, 6], [7, 8 ,9]])\n",
    "B = np.array([2, 5, 11])\n",
    "np.linalg.det(A)\n",
    "Q, R = np.linalg.qr(A)\n",
    "print(A)\n",
    "print(Q)\n",
    "print(R)\n",
    "R1 = R[:2, :2]\n",
    "print(R1)\n",
    "B1 = np.dot(np.transpose(Q), B)[:2]\n",
    "print(B1)\n",
    "X1 = np.linalg.solve(R1, B1)\n",
    "print(X1)\n",
    "X = np.append(X1, 0)\n",
    "print(X)\n",
    "print(np.linalg.norm(X))\n",
    "print(np.linalg.norm(np.dot(A, X) - B))"
   ]
  },
  {
   "cell_type": "code",
   "execution_count": null,
   "metadata": {},
   "outputs": [],
   "source": []
  }
 ],
 "metadata": {
  "kernelspec": {
   "display_name": "Python 3",
   "language": "python",
   "name": "python3"
  },
  "language_info": {
   "codemirror_mode": {
    "name": "ipython",
    "version": 3
   },
   "file_extension": ".py",
   "mimetype": "text/x-python",
   "name": "python",
   "nbconvert_exporter": "python",
   "pygments_lexer": "ipython3",
   "version": "3.8.6"
  }
 },
 "nbformat": 4,
 "nbformat_minor": 4
}
