{
 "cells": [
  {
   "cell_type": "code",
   "execution_count": 48,
   "metadata": {},
   "outputs": [],
   "source": [
    "%matplotlib inline\n",
    "import numpy as np\n",
    "import matplotlib.pyplot as plt\n",
    "import itertools"
   ]
  },
  {
   "cell_type": "code",
   "execution_count": 290,
   "metadata": {},
   "outputs": [
    {
     "name": "stdout",
     "output_type": "stream",
     "text": [
      "7   red\n",
      "10   black\n",
      "22   black\n",
      "0   black\n",
      "35   red\n",
      "22   black\n"
     ]
    }
   ],
   "source": [
    "#Lesson-5 example 1 rulets\n",
    "for i in range(0, 6):\n",
    "    color = \"\"\n",
    "    x = np.random.randint(0, 37)\n",
    "    if x % 2 == 0:\n",
    "        color = \"black\"\n",
    "    else:\n",
    "        color = \"red\"\n",
    "    print(x,\" \",color)\n"
   ]
  },
  {
   "cell_type": "code",
   "execution_count": 312,
   "metadata": {},
   "outputs": [
    {
     "name": "stdout",
     "output_type": "stream",
     "text": [
      "выиграла ставка 0 или 12\n",
      "Вероятность такого исхода: 0.05555555555555555\n"
     ]
    }
   ],
   "source": [
    "#Lesson-5 example 2-1\n",
    "n = 36\n",
    "for i in range(0, 6):\n",
    "    x = np.random.randint(0, 37)\n",
    "    p = (1/n) + (1/n)\n",
    "    if x == 0 or x == 12:\n",
    "        print(\"выиграла ставка 0 или 12\")\n",
    "        print(\"Вероятность такого исхода:\" + \" \" + str(p))\n",
    "\n",
    "    "
   ]
  },
  {
   "cell_type": "code",
   "execution_count": 303,
   "metadata": {},
   "outputs": [
    {
     "data": {
      "text/plain": [
       "Text(0.5, 1.0, 'Histogram')"
      ]
     },
     "execution_count": 303,
     "metadata": {},
     "output_type": "execute_result"
    },
    {
     "data": {
      "image/png": "[encoded data removed]",
      "text/plain": [
       "<Figure size 432x288 with 1 Axes>"
      ]
     },
     "metadata": {
      "needs_background": "light"
     },
     "output_type": "display_data"
    }
   ],
   "source": [
    "#Lesson-5 examle 2-2\n",
    "n = 10\n",
    "x_n = []\n",
    "for i in range(0, n):\n",
    "    xi = np.random.rand(100)\n",
    "    x_n.append(xi.sum())\n",
    "plt.hist(x_n, n)\n",
    "plt.xlabel('x')\n",
    "plt.ylabel('Probability')\n",
    "plt.title('Histogram')"
   ]
  },
  {
   "cell_type": "code",
   "execution_count": 305,
   "metadata": {},
   "outputs": [
    {
     "name": "stdout",
     "output_type": "stream",
     "text": [
      "380 1000 0.38 0.02598393978096881\n"
     ]
    }
   ],
   "source": [
    "#Lesson-5 example3-1\n",
    "k, n = 0, 1000\n",
    "a = np.random.randint(0, 2, n)\n",
    "b = np.random.randint(0, 2, n)\n",
    "c = np.random.randint(0, 2, n)\n",
    "d = np.random.randint(0, 2, n)\n",
    "x = a + b + c + d\n",
    "for i in range(0, n):\n",
    "    if x[i] == 2:\n",
    "        k += 1\n",
    "cn = np.math.factorial(n)\n",
    "ck = np.math.factorial(k)\n",
    "cnk = np.math.factorial(n - k)\n",
    "c_nk = cn//(ck*cnk)\n",
    "pk = (k/n)**k\n",
    "qnk = (1-(k/n))**(n-k)\n",
    "p = c_nk * pk * qnk\n",
    "print(k, n, k/n, p)\n",
    "\n"
   ]
  },
  {
   "cell_type": "code",
   "execution_count": 264,
   "metadata": {},
   "outputs": [
    {
     "name": "stdout",
     "output_type": "stream",
     "text": [
      "45\n",
      "46\n",
      "47\n",
      "54\n",
      "56\n",
      "57\n",
      "64\n",
      "65\n",
      "67\n",
      "74\n",
      "75\n",
      "76\n"
     ]
    }
   ],
   "source": [
    "#Lesson-5 example4\n",
    "for p in itertools.permutations(\"4567\",2):\n",
    "    print(''.join(str(x) for x in p))\n"
   ]
  },
  {
   "cell_type": "code",
   "execution_count": 265,
   "metadata": {},
   "outputs": [
    {
     "name": "stdout",
     "output_type": "stream",
     "text": [
      "45\n",
      "46\n",
      "47\n",
      "56\n",
      "57\n",
      "67\n"
     ]
    }
   ],
   "source": [
    "for p in itertools.combinations(\"4567\",2):\n",
    "    print(''.join(p))"
   ]
  },
  {
   "cell_type": "code",
   "execution_count": 266,
   "metadata": {},
   "outputs": [
    {
     "name": "stdout",
     "output_type": "stream",
     "text": [
      "1111\n",
      "1113\n",
      "1131\n",
      "1133\n",
      "1311\n",
      "1313\n",
      "1331\n",
      "1333\n",
      "3111\n",
      "3113\n",
      "3131\n",
      "3133\n",
      "3311\n",
      "3313\n",
      "3331\n",
      "3333\n"
     ]
    }
   ],
   "source": [
    "for p in itertools.product(\"13\", repeat=4):\n",
    "    print(''.join(p))"
   ]
  },
  {
   "cell_type": "code",
   "execution_count": 306,
   "metadata": {},
   "outputs": [
    {
     "name": "stdout",
     "output_type": "stream",
     "text": [
      "0.7170607837862107 0.1288299737059242\n",
      "0.717060783786211 0.12882997370592406\n",
      "-1.0\n"
     ]
    },
    {
     "name": "stderr",
     "output_type": "stream",
     "text": [
      "<ipython-input-306-e386d550abdc>:15: FutureWarning: `rcond` parameter will change to the default of machine precision times ``max(M, N)`` where M and N are the input matrix dimensions.\n",
      "To use the future default and silence this warning we advise to pass `rcond=None`, to keep using the old, explicitly pass `rcond=-1`.\n",
      "  a1, b1 = np.linalg.lstsq(A, y)[0]\n"
     ]
    },
    {
     "data": {
      "image/png": "[encoded data removed]",
      "text/plain": [
       "<Figure size 432x288 with 1 Axes>"
      ]
     },
     "metadata": {
      "needs_background": "light"
     },
     "output_type": "display_data"
    }
   ],
   "source": [
    "#Lesson-5 example5\n",
    "n = 200\n",
    "r = 0.7\n",
    "x = np.random.rand(n)\n",
    "y = r*x + (1 - r)*np.random.rand(n)\n",
    "plt.plot(x, y, 'o')\n",
    "plt.xlabel('x')\n",
    "plt.ylabel('y')\n",
    "plt.grid()\n",
    "\n",
    "a = (np.sum(x)*np.sum(y) - n*np.sum(x*y))/(np.sum(x)*np.sum(x) - n*np.sum(x*x))\n",
    "b = (np.sum(y) - a*np.sum(x))/n\n",
    "\n",
    "A = np.vstack([x, np.ones(len(x))]).T\n",
    "a1, b1 = np.linalg.lstsq(A, y)[0]\n",
    "print(a, b)\n",
    "print(a1, b1)\n",
    "c = np.corrcoef(x, y)\n",
    "plt.plot([0, 1], [b,a + b])\n",
    "\n",
    "# calculate correlation\n",
    "x_m = np.average(x)\n",
    "y_m = np.average(y)\n",
    "rc = (np.sum(x-x_m)*(np.sum(y-y_m)))/(np.sqrt(((np.sum(x-x_m))**2*(np.sum(y-y_m))**2)))\n",
    "print(rc)"
   ]
  },
  {
   "cell_type": "code",
   "execution_count": null,
   "metadata": {},
   "outputs": [],
   "source": []
  }
 ],
 "metadata": {
  "kernelspec": {
   "display_name": "Python 3",
   "language": "python",
   "name": "python3"
  },
  "language_info": {
   "codemirror_mode": {
    "name": "ipython",
    "version": 3
   },
   "file_extension": ".py",
   "mimetype": "text/x-python",
   "name": "python",
   "nbconvert_exporter": "python",
   "pygments_lexer": "ipython3",
   "version": "3.8.6"
  }
 },
 "nbformat": 4,
 "nbformat_minor": 4
}
